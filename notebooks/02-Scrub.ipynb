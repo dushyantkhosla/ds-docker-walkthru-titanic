{
 "cells": [
  {
   "cell_type": "code",
   "execution_count": 1,
   "metadata": {},
   "outputs": [
    {
     "name": "stdout",
     "output_type": "stream",
     "text": [
      "Populating the interactive namespace from numpy and matplotlib\n"
     ]
    }
   ],
   "source": [
    "import os\n",
    "import pandas as pd\n",
    "import seaborn as sns\n",
    "\n",
    "import matplotlib.pyplot as plt\n",
    "plt.style.use('seaborn-darkgrid')\n",
    "\n",
    "%pylab inline"
   ]
  },
  {
   "cell_type": "code",
   "execution_count": 2,
   "metadata": {
    "collapsed": true
   },
   "outputs": [],
   "source": [
    "os.chdir(\"..\")\n",
    "PATH = os.getcwd()"
   ]
  },
  {
   "cell_type": "code",
   "execution_count": 3,
   "metadata": {},
   "outputs": [
    {
     "name": "stdout",
     "output_type": "stream",
     "text": [
      "data\t\t Jenkinsfile  notebooks   reports\t       tox.ini\r\n",
      "Dockerfile\t LICENSE      OFL.txt\t  src\r\n",
      "docs\t\t Makefile     README.md   start.sh\r\n",
      "environment.yml  models       references  test_environment.py\r\n"
     ]
    }
   ],
   "source": [
    "!ls"
   ]
  },
  {
   "cell_type": "markdown",
   "metadata": {},
   "source": [
    "## Import Data"
   ]
  },
  {
   "cell_type": "code",
   "execution_count": 4,
   "metadata": {
    "collapsed": true
   },
   "outputs": [],
   "source": [
    "from src.data.obtain import get_raw_data\n",
    "df = get_raw_data()"
   ]
  },
  {
   "cell_type": "markdown",
   "metadata": {},
   "source": [
    "# Scrub Data"
   ]
  },
  {
   "cell_type": "code",
   "execution_count": 5,
   "metadata": {},
   "outputs": [
    {
     "name": "stdout",
     "output_type": "stream",
     "text": [
      "Declaring an empty dictionary to persist information we'll need to scrub new data in production.\n"
     ]
    }
   ],
   "source": [
    "print(\"Declaring an empty dictionary to persist information we'll need to scrub new data in production.\")\n",
    "dict_persist = {}"
   ]
  },
  {
   "cell_type": "markdown",
   "metadata": {},
   "source": [
    "### Column Names"
   ]
  },
  {
   "cell_type": "code",
   "execution_count": 6,
   "metadata": {},
   "outputs": [
    {
     "name": "stdout",
     "output_type": "stream",
     "text": [
      "Fixing column names. (Removing special characters, converting to lowercase. Renaming long columns)\n"
     ]
    }
   ],
   "source": [
    "print(\"Fixing column names. (Removing special characters, converting to lowercase. Renaming long columns)\")\n",
    "df.columns = map(lambda i: i.lower().translate(None, './()& '), \n",
    "                 df.columns.tolist())\n",
    "\n",
    "df.rename(columns={'siblingsspousesaboard': 'sibsp'}, inplace=True)"
   ]
  },
  {
   "cell_type": "markdown",
   "metadata": {},
   "source": [
    "### Missings"
   ]
  },
  {
   "cell_type": "code",
   "execution_count": 7,
   "metadata": {},
   "outputs": [
    {
     "name": "stdout",
     "output_type": "stream",
     "text": [
      "The following columns have missing data: \n",
      "['age', 'fare', 'cabinnumber', 'embarked']\n"
     ]
    }
   ],
   "source": [
    "have_missing = \\\n",
    "(df\n",
    " .isnull()\n",
    " .sum()\n",
    " .where(lambda x: x > 0)\n",
    " .dropna()\n",
    " .index\n",
    " .tolist()\n",
    ")\n",
    "\n",
    "print(\"The following columns have missing data: \\n{}\".format(have_missing))"
   ]
  },
  {
   "cell_type": "code",
   "execution_count": 8,
   "metadata": {},
   "outputs": [],
   "source": [
    "#\n",
    "dict_persist['have_missing'] = have_missing\n",
    "#"
   ]
  },
  {
   "cell_type": "code",
   "execution_count": 9,
   "metadata": {},
   "outputs": [
    {
     "data": {
      "text/html": [
       "<div>\n",
       "<style>\n",
       "    .dataframe thead tr:only-child th {\n",
       "        text-align: right;\n",
       "    }\n",
       "\n",
       "    .dataframe thead th {\n",
       "        text-align: left;\n",
       "    }\n",
       "\n",
       "    .dataframe tbody tr th {\n",
       "        vertical-align: top;\n",
       "    }\n",
       "</style>\n",
       "<table border=\"1\" class=\"dataframe\">\n",
       "  <thead>\n",
       "    <tr style=\"text-align: right;\">\n",
       "      <th></th>\n",
       "      <th>num_missing</th>\n",
       "      <th>perc_missing</th>\n",
       "      <th>type</th>\n",
       "    </tr>\n",
       "  </thead>\n",
       "  <tbody>\n",
       "    <tr>\n",
       "      <th>age</th>\n",
       "      <td>263</td>\n",
       "      <td>0.20</td>\n",
       "      <td>float64</td>\n",
       "    </tr>\n",
       "    <tr>\n",
       "      <th>fare</th>\n",
       "      <td>1</td>\n",
       "      <td>0.00</td>\n",
       "      <td>float64</td>\n",
       "    </tr>\n",
       "    <tr>\n",
       "      <th>cabinnumber</th>\n",
       "      <td>1014</td>\n",
       "      <td>0.77</td>\n",
       "      <td>object</td>\n",
       "    </tr>\n",
       "    <tr>\n",
       "      <th>embarked</th>\n",
       "      <td>2</td>\n",
       "      <td>0.00</td>\n",
       "      <td>object</td>\n",
       "    </tr>\n",
       "  </tbody>\n",
       "</table>\n",
       "</div>"
      ],
      "text/plain": [
       "             num_missing  perc_missing     type\n",
       "age                  263          0.20  float64\n",
       "fare                   1          0.00  float64\n",
       "cabinnumber         1014          0.77   object\n",
       "embarked               2          0.00   object"
      ]
     },
     "execution_count": 9,
     "metadata": {},
     "output_type": "execute_result"
    }
   ],
   "source": [
    "pd.DataFrame({\n",
    "    'type': df[have_missing].dtypes,\n",
    "    'perc_missing': df[have_missing].isnull().mean().round(2),\n",
    "    'num_missing': df[have_missing].isnull().sum()\n",
    "})"
   ]
  },
  {
   "cell_type": "code",
   "execution_count": 10,
   "metadata": {
    "collapsed": true
   },
   "outputs": [],
   "source": [
    "for COL in have_missing:\n",
    "    \"\"\"\n",
    "    Create a missing flag for each column\n",
    "    that has missing data.\n",
    "    \"\"\"\n",
    "    newCOL = COL + '__is_null'\n",
    "    df.loc[:, newCOL] = df.loc[:, COL].isnull().astype(int)"
   ]
  },
  {
   "cell_type": "code",
   "execution_count": 11,
   "metadata": {},
   "outputs": [
    {
     "data": {
      "text/plain": [
       "''"
      ]
     },
     "execution_count": 11,
     "metadata": {},
     "output_type": "execute_result"
    },
    {
     "data": {
      "image/png": "[encoded data removed]",
      "text/plain": [
       "<matplotlib.figure.Figure at 0x7fa433bd7750>"
      ]
     },
     "metadata": {},
     "output_type": "display_data"
    }
   ],
   "source": [
    "# impute missings\n",
    "fig, ax = plt.subplots(nrows=1, ncols=2, figsize=(10, 4))\n",
    "\n",
    "df['age'].plot.hist(bins=20, ax=ax[0], title='Age')\n",
    "df['fare'].plot.hist(bins=20, ax=ax[1], title='Fare')\n",
    ";"
   ]
  },
  {
   "cell_type": "code",
   "execution_count": 12,
   "metadata": {},
   "outputs": [
    {
     "name": "stdout",
     "output_type": "stream",
     "text": [
      "Age is approximately normally distributed, but Fare is skewed.\n",
      "Using the mean for Age and Median for Fare to impute missing data.\n",
      "Cabin Number has over 70% values missing. Dropping this variable.\n",
      "Embarked has only 2 values missing. Imputing with Mode.\n"
     ]
    }
   ],
   "source": [
    "print(\"Age is approximately normally distributed, but Fare is skewed.\")\n",
    "print(\"Using the mean for Age and Median for Fare to impute missing data.\")\n",
    "print(\"Cabin Number has over 70% values missing. Dropping this variable.\")\n",
    "print(\"Embarked has only 2 values missing. Imputing with Mode.\")\n",
    "\n",
    "age_fillna = df['age'].mean()\n",
    "fare_fillna = df['fare'].median()\n",
    "embarked_fillna = df['embarked'].describe()['top']\n",
    "\n",
    "df['age'].fillna(value=age_fillna, inplace=True)\n",
    "df['fare'].fillna(value=fare_fillna, inplace=True)\n",
    "df['embarked'].fillna(value=embarked_fillna, inplace=True)"
   ]
  },
  {
   "cell_type": "code",
   "execution_count": 13,
   "metadata": {
    "collapsed": true
   },
   "outputs": [],
   "source": [
    "#\n",
    "dict_persist['age_fillna'] = age_fillna\n",
    "dict_persist['fare_fillna'] = fare_fillna\n",
    "dict_persist['embarked_fillna'] = embarked_fillna\n",
    "#"
   ]
  },
  {
   "cell_type": "markdown",
   "metadata": {},
   "source": [
    "### Create new columns"
   ]
  },
  {
   "cell_type": "code",
   "execution_count": 14,
   "metadata": {},
   "outputs": [
    {
     "name": "stdout",
     "output_type": "stream",
     "text": [
      "Creating a column for Gender\n"
     ]
    }
   ],
   "source": [
    "print(\"Creating a column for Gender\")\n",
    "\n",
    "df.loc[:, 'gender'] = df['name'].map(lambda i: 1 if 'Miss' in i or 'Mrs' in i else 0)"
   ]
  },
  {
   "cell_type": "code",
   "execution_count": 15,
   "metadata": {},
   "outputs": [
    {
     "name": "stdout",
     "output_type": "stream",
     "text": [
      "Creating Dummies for Embarked and Passenger Class. \n",
      "Done. Now dropping these.\n"
     ]
    }
   ],
   "source": [
    "print(\"Creating Dummies for Embarked and Passenger Class. \\nDone. Now dropping these.\")\n",
    "\n",
    "df = df.join(pd.get_dummies(df['embarked'], prefix='embarked'))\n",
    "df = df.join(pd.get_dummies(df['passengerclass'], prefix='pclass'))\n",
    "\n",
    "df.drop(['embarked', 'passengerclass'], axis=1, inplace=True)"
   ]
  },
  {
   "cell_type": "markdown",
   "metadata": {},
   "source": [
    "### Remove Zero Variance Columns"
   ]
  },
  {
   "cell_type": "code",
   "execution_count": 16,
   "metadata": {},
   "outputs": [
    {
     "data": {
      "text/plain": [
       "name           1.00\n",
       "ticket         0.71\n",
       "cabinnumber    0.63\n",
       "Name: perc_uniq, dtype: float64"
      ]
     },
     "execution_count": 16,
     "metadata": {},
     "output_type": "execute_result"
    }
   ],
   "source": [
    "perc_uniqs_catg = \\\n",
    "(df\n",
    " .describe(include=['O'])\n",
    " .T\n",
    " .assign(perc_uniq = lambda fr: fr['unique']/fr['count'])\n",
    " .loc[:, 'perc_uniq']\n",
    " .astype(float)\n",
    " .round(2)\n",
    ")\n",
    "\n",
    "perc_uniqs_catg"
   ]
  },
  {
   "cell_type": "code",
   "execution_count": 17,
   "metadata": {},
   "outputs": [
    {
     "name": "stdout",
     "output_type": "stream",
     "text": [
      "Dropping cabinnumber, ticket and name as they have no predictive value. (Too many uniques)\n"
     ]
    }
   ],
   "source": [
    "print(\"Dropping cabinnumber, ticket and name as they have no predictive value. (Too many uniques)\")\n",
    "df.drop(['cabinnumber', 'ticket', 'name'], axis=1, inplace=True)"
   ]
  },
  {
   "cell_type": "markdown",
   "metadata": {},
   "source": [
    "### Convert to numeric"
   ]
  },
  {
   "cell_type": "code",
   "execution_count": 18,
   "metadata": {},
   "outputs": [
    {
     "name": "stdout",
     "output_type": "stream",
     "text": [
      "Downcasting numerics to occupy less space.\n"
     ]
    }
   ],
   "source": [
    "print(\"Downcasting numerics to occupy less space.\")\n",
    "df = df.apply(lambda c: pd.to_numeric(c, downcast='integer'))"
   ]
  },
  {
   "cell_type": "markdown",
   "metadata": {},
   "source": [
    "## Backup"
   ]
  },
  {
   "cell_type": "code",
   "execution_count": 21,
   "metadata": {},
   "outputs": [],
   "source": [
    "df.to_csv(\"data/04-processed/titanic.csv\")\n",
    "\n",
    "from src import scrub_params\n",
    "import json \n",
    "\n",
    "with open(scrub_params, 'w') as fp:\n",
    "    json.dump(dict_persist, fp)"
   ]
  }
 ],
 "metadata": {
  "kernelspec": {
   "display_name": "Python 2",
   "language": "python",
   "name": "python2"
  },
  "language_info": {
   "codemirror_mode": {
    "name": "ipython",
    "version": 2
   },
   "file_extension": ".py",
   "mimetype": "text/x-python",
   "name": "python",
   "nbconvert_exporter": "python",
   "pygments_lexer": "ipython2",
   "version": "2.7.13"
  }
 },
 "nbformat": 4,
 "nbformat_minor": 2
}
