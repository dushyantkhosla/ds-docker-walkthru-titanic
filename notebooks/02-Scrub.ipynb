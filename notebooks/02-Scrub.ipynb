{
 "cells": [
  {
   "cell_type": "code",
   "execution_count": 1,
   "metadata": {},
   "outputs": [
    {
     "name": "stdout",
     "output_type": "stream",
     "text": [
      "Populating the interactive namespace from numpy and matplotlib\n"
     ]
    }
   ],
   "source": [
    "import os\n",
    "import pandas as pd\n",
    "import seaborn as sns\n",
    "\n",
    "import matplotlib.pyplot as plt\n",
    "plt.style.use('seaborn-darkgrid')\n",
    "\n",
    "%pylab inline"
   ]
  },
  {
   "cell_type": "code",
   "execution_count": 2,
   "metadata": {
    "collapsed": true
   },
   "outputs": [],
   "source": [
    "os.chdir(\"..\")\n",
    "PATH = os.getcwd()"
   ]
  },
  {
   "cell_type": "markdown",
   "metadata": {},
   "source": [
    "## Import Data"
   ]
  },
  {
   "cell_type": "code",
   "execution_count": 3,
   "metadata": {
    "collapsed": true
   },
   "outputs": [],
   "source": [
    "from src.data.obtain import get_raw_data\n",
    "df = get_raw_data()"
   ]
  },
  {
   "cell_type": "markdown",
   "metadata": {},
   "source": [
    "# Scrub Data"
   ]
  },
  {
   "cell_type": "markdown",
   "metadata": {},
   "source": [
    "### Column Names"
   ]
  },
  {
   "cell_type": "code",
   "execution_count": 4,
   "metadata": {},
   "outputs": [
    {
     "name": "stdout",
     "output_type": "stream",
     "text": [
      "Fixing column names. (Removing special characters, converting to lowercase. Renaming long columns)\n"
     ]
    }
   ],
   "source": [
    "print(\"Fixing column names. (Removing special characters, converting to lowercase. Renaming long columns)\")\n",
    "df.columns = map(lambda i: i.lower().translate(None, './()& '), \n",
    "                 df.columns.tolist())\n",
    "\n",
    "df.rename(columns={'siblingsspousesaboard': 'sibsp'}, inplace=True)"
   ]
  },
  {
   "cell_type": "markdown",
   "metadata": {},
   "source": [
    "### Missings"
   ]
  },
  {
   "cell_type": "code",
   "execution_count": 5,
   "metadata": {},
   "outputs": [
    {
     "name": "stdout",
     "output_type": "stream",
     "text": [
      "The following columns have missing data: \n",
      "['age', 'fare', 'cabinnumber', 'embarked']\n"
     ]
    }
   ],
   "source": [
    "have_missing = \\\n",
    "(df\n",
    " .isnull()\n",
    " .sum()\n",
    " .where(lambda x: x > 0)\n",
    " .dropna()\n",
    " .index\n",
    " .tolist()\n",
    ")\n",
    "\n",
    "print(\"The following columns have missing data: \\n{}\".format(have_missing))"
   ]
  },
  {
   "cell_type": "code",
   "execution_count": 9,
   "metadata": {},
   "outputs": [],
   "source": [
    "def json_save(x, PATH):\n",
    "    \"\"\"\n",
    "    Save a Python Dict as a JSON file for persistence\n",
    "    \n",
    "    Parameters\n",
    "    ----------\n",
    "    x: dict\n",
    "        The Python dict to be persisted\n",
    "    PATH: string\n",
    "        The full path to destination folder\n",
    "        \n",
    "    Returns\n",
    "    -------\n",
    "    None\n",
    "    \"\"\"\n",
    "    import json\n",
    "    with open(PATH, 'w') as fp:\n",
    "        json.dump(x, fp, sort_keys=True, indent=4)"
   ]
  },
  {
   "cell_type": "code",
   "execution_count": 10,
   "metadata": {},
   "outputs": [],
   "source": [
    "json_save({'have_missing': have_missing}, './src/data/have_missing.json')"
   ]
  },
  {
   "cell_type": "code",
   "execution_count": null,
   "metadata": {
    "collapsed": true
   },
   "outputs": [],
   "source": []
  },
  {
   "cell_type": "code",
   "execution_count": null,
   "metadata": {
    "collapsed": true
   },
   "outputs": [],
   "source": []
  },
  {
   "cell_type": "code",
   "execution_count": null,
   "metadata": {
    "collapsed": true
   },
   "outputs": [],
   "source": []
  },
  {
   "cell_type": "code",
   "execution_count": null,
   "metadata": {},
   "outputs": [],
   "source": [
    "pd.DataFrame({\n",
    "    'type': df[have_missing].dtypes,\n",
    "    'perc_missing': df[have_missing].isnull().mean().round(2),\n",
    "    'num_missing': df[have_missing].isnull().sum()\n",
    "})"
   ]
  },
  {
   "cell_type": "code",
   "execution_count": null,
   "metadata": {
    "collapsed": true
   },
   "outputs": [],
   "source": [
    "for COL in have_missing:\n",
    "    \"\"\"\n",
    "    Create a missing flag for each column\n",
    "    that has missing data.\n",
    "    \"\"\"\n",
    "    newCOL = COL + '__is_null'\n",
    "    df.loc[:, newCOL] = df.loc[:, COL].isnull().astype(int)"
   ]
  },
  {
   "cell_type": "code",
   "execution_count": null,
   "metadata": {},
   "outputs": [],
   "source": [
    "# impute missings\n",
    "fig, ax = plt.subplots(nrows=1, ncols=2, figsize=(10, 4))\n",
    "\n",
    "df['age'].plot.hist(bins=20, ax=ax[0], title='Age')\n",
    "df['fare'].plot.hist(bins=20, ax=ax[1], title='Fare')\n",
    ";"
   ]
  },
  {
   "cell_type": "code",
   "execution_count": null,
   "metadata": {},
   "outputs": [],
   "source": [
    "print(\"Age is approximately normally distributed, but Fare is skewed.\")\n",
    "print(\"Using the mean for Age and Median for Fare to impute missing data.\")\n",
    "print(\"Cabin Number has over 70% values missing. Dropping this variable.\")\n",
    "print(\"Embarked has only 2 values missing. Imputing with Mode.\")\n",
    "\n",
    "age_fillna = df['age'].mean()\n",
    "fare_fillna = df['fare'].median()\n",
    "embarked_fillna = df['embarked'].describe()['top']\n",
    "\n",
    "df['age'].fillna(value=age_fillna, inplace=True)\n",
    "df['fare'].fillna(value=fare_fillna, inplace=True)\n",
    "df['embarked'].fillna(value=embarked_fillna, inplace=True)"
   ]
  },
  {
   "cell_type": "markdown",
   "metadata": {},
   "source": [
    "### Create new columns"
   ]
  },
  {
   "cell_type": "code",
   "execution_count": null,
   "metadata": {},
   "outputs": [],
   "source": [
    "print(\"Creating a column for Gender\")\n",
    "\n",
    "df.loc[:, 'gender'] = df['name'].map(lambda i: 1 if 'Miss' in i or 'Mrs' in i else 0)"
   ]
  },
  {
   "cell_type": "code",
   "execution_count": null,
   "metadata": {},
   "outputs": [],
   "source": [
    "print(\"Creating Dummies for Embarked and Passenger Class. \\nDone. Now dropping these.\")\n",
    "\n",
    "df = df.join(pd.get_dummies(df['embarked'], prefix='embarked'))\n",
    "df = df.join(pd.get_dummies(df['passengerclass'], prefix='pclass'))\n",
    "\n",
    "df.drop(['embarked', 'passengerclass'], axis=1, inplace=True)"
   ]
  },
  {
   "cell_type": "markdown",
   "metadata": {},
   "source": [
    "### Remove Zero Variance Columns"
   ]
  },
  {
   "cell_type": "code",
   "execution_count": null,
   "metadata": {},
   "outputs": [],
   "source": [
    "perc_uniqs_catg = \\\n",
    "(df\n",
    " .describe(include=['O'])\n",
    " .T\n",
    " .assign(perc_uniq = lambda fr: fr['unique']/fr['count'])\n",
    " .loc[:, 'perc_uniq']\n",
    " .astype(float)\n",
    " .round(2)\n",
    ")\n",
    "\n",
    "perc_uniqs_catg"
   ]
  },
  {
   "cell_type": "code",
   "execution_count": null,
   "metadata": {},
   "outputs": [],
   "source": [
    "print(\"Dropping cabinnumber, ticket and name as they have no predictive value. (Too many uniques)\")\n",
    "df.drop(['cabinnumber', 'ticket', 'name'], axis=1, inplace=True)"
   ]
  },
  {
   "cell_type": "markdown",
   "metadata": {},
   "source": [
    "### Convert to numeric"
   ]
  },
  {
   "cell_type": "code",
   "execution_count": null,
   "metadata": {},
   "outputs": [],
   "source": [
    "print(\"Downcasting numerics to occupy less space.\")\n",
    "df = df.apply(lambda c: pd.to_numeric(c, downcast='integer'))"
   ]
  },
  {
   "cell_type": "markdown",
   "metadata": {},
   "source": [
    "## Backup"
   ]
  },
  {
   "cell_type": "code",
   "execution_count": null,
   "metadata": {
    "collapsed": true
   },
   "outputs": [],
   "source": [
    "df.to_csv(\"data/04-processed/titanic.csv\")"
   ]
  }
 ],
 "metadata": {
  "kernelspec": {
   "display_name": "Python 2",
   "language": "python",
   "name": "python2"
  },
  "language_info": {
   "codemirror_mode": {
    "name": "ipython",
    "version": 2
   },
   "file_extension": ".py",
   "mimetype": "text/x-python",
   "name": "python",
   "nbconvert_exporter": "python",
   "pygments_lexer": "ipython2",
   "version": "2.7.13"
  }
 },
 "nbformat": 4,
 "nbformat_minor": 2
}
