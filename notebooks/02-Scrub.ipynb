{
 "cells": [
  {
   "cell_type": "code",
   "execution_count": 1,
   "metadata": {},
   "outputs": [
    {
     "name": "stdout",
     "output_type": "stream",
     "text": [
      "Populating the interactive namespace from numpy and matplotlib\n"
     ]
    }
   ],
   "source": [
    "import os\n",
    "import string\n",
    "\n",
    "import numpy as np\n",
    "import pandas as pd\n",
    "import seaborn as sns\n",
    "\n",
    "import matplotlib.pyplot as plt\n",
    "plt.style.use('seaborn-darkgrid')\n",
    "\n",
    "%pylab inline\n",
    "os.chdir(\"..\")"
   ]
  },
  {
   "cell_type": "markdown",
   "metadata": {},
   "source": [
    "## Import Data"
   ]
  },
  {
   "cell_type": "code",
   "execution_count": 2,
   "metadata": {
    "collapsed": true
   },
   "outputs": [],
   "source": [
    "from src import URL_TITANIC\n",
    "from src.obtain import get_raw_data, json_write\n",
    "\n",
    "df = get_raw_data(url=URL_TITANIC)"
   ]
  },
  {
   "cell_type": "markdown",
   "metadata": {},
   "source": [
    "# Scrub Data"
   ]
  },
  {
   "cell_type": "code",
   "execution_count": 3,
   "metadata": {},
   "outputs": [
    {
     "name": "stdout",
     "output_type": "stream",
     "text": [
      "Declaring an empty dictionary to persist information we'll need to scrub new data in production.\n"
     ]
    }
   ],
   "source": [
    "print(\"Declaring an empty dictionary to persist information we'll need to scrub new data in production.\")\n",
    "dict_scrub_steps = {}"
   ]
  },
  {
   "cell_type": "markdown",
   "metadata": {},
   "source": [
    "### Column Names"
   ]
  },
  {
   "cell_type": "code",
   "execution_count": 4,
   "metadata": {},
   "outputs": [
    {
     "data": {
      "text/plain": [
       "Index(['passenger class', 'survived', 'name', 'AGE', 'Siblings/Spouses Aboard',\n",
       "       'par&ch', 'ticket', 'fare', 'cabin Number', 'embarked'],\n",
       "      dtype='object')"
      ]
     },
     "execution_count": 4,
     "metadata": {},
     "output_type": "execute_result"
    }
   ],
   "source": [
    "df.columns"
   ]
  },
  {
   "cell_type": "code",
   "execution_count": 5,
   "metadata": {},
   "outputs": [
    {
     "name": "stdout",
     "output_type": "stream",
     "text": [
      "Fixing column names. (Removing special characters, converting to lowercase. Renaming long columns)\n"
     ]
    }
   ],
   "source": [
    "remove_ = str.maketrans(dict.fromkeys(string.punctuation + ' '))\n",
    "\n",
    "print(\"Fixing column names. (Removing special characters, converting to lowercase. Renaming long columns)\")\n",
    "df.columns = map(lambda i: i.lower().translate(remove_), \n",
    "                 df.columns.tolist())\n",
    "\n",
    "df.rename(columns={'siblingsspousesaboard': 'sibsp'}, inplace=True)"
   ]
  },
  {
   "cell_type": "code",
   "execution_count": 6,
   "metadata": {},
   "outputs": [
    {
     "data": {
      "text/plain": [
       "Index(['passengerclass', 'survived', 'name', 'age', 'sibsp', 'parch', 'ticket',\n",
       "       'fare', 'cabinnumber', 'embarked'],\n",
       "      dtype='object')"
      ]
     },
     "execution_count": 6,
     "metadata": {},
     "output_type": "execute_result"
    }
   ],
   "source": [
    "df.columns"
   ]
  },
  {
   "cell_type": "markdown",
   "metadata": {},
   "source": [
    "### Missings"
   ]
  },
  {
   "cell_type": "code",
   "execution_count": 7,
   "metadata": {},
   "outputs": [
    {
     "name": "stdout",
     "output_type": "stream",
     "text": [
      "The following columns have missing data: \n",
      "['age', 'fare', 'cabinnumber', 'embarked']\n"
     ]
    }
   ],
   "source": [
    "have_missing = \\\n",
    "(df\n",
    " .isnull()\n",
    " .sum()\n",
    " .where(lambda x: x > 0)\n",
    " .dropna()\n",
    " .index\n",
    " .tolist()\n",
    ")\n",
    "\n",
    "print(\"The following columns have missing data: \\n{}\".format(have_missing))"
   ]
  },
  {
   "cell_type": "code",
   "execution_count": 8,
   "metadata": {},
   "outputs": [],
   "source": [
    "dict_scrub_steps['have_missing'] = have_missing"
   ]
  },
  {
   "cell_type": "code",
   "execution_count": 9,
   "metadata": {},
   "outputs": [
    {
     "data": {
      "text/html": [
       "<div>\n",
       "<style scoped>\n",
       "    .dataframe tbody tr th:only-of-type {\n",
       "        vertical-align: middle;\n",
       "    }\n",
       "\n",
       "    .dataframe tbody tr th {\n",
       "        vertical-align: top;\n",
       "    }\n",
       "\n",
       "    .dataframe thead th {\n",
       "        text-align: right;\n",
       "    }\n",
       "</style>\n",
       "<table border=\"1\" class=\"dataframe\">\n",
       "  <thead>\n",
       "    <tr style=\"text-align: right;\">\n",
       "      <th></th>\n",
       "      <th>num_missing</th>\n",
       "      <th>perc_missing</th>\n",
       "      <th>type</th>\n",
       "    </tr>\n",
       "  </thead>\n",
       "  <tbody>\n",
       "    <tr>\n",
       "      <th>age</th>\n",
       "      <td>263</td>\n",
       "      <td>0.20</td>\n",
       "      <td>float64</td>\n",
       "    </tr>\n",
       "    <tr>\n",
       "      <th>fare</th>\n",
       "      <td>1</td>\n",
       "      <td>0.00</td>\n",
       "      <td>float64</td>\n",
       "    </tr>\n",
       "    <tr>\n",
       "      <th>cabinnumber</th>\n",
       "      <td>1014</td>\n",
       "      <td>0.77</td>\n",
       "      <td>object</td>\n",
       "    </tr>\n",
       "    <tr>\n",
       "      <th>embarked</th>\n",
       "      <td>2</td>\n",
       "      <td>0.00</td>\n",
       "      <td>object</td>\n",
       "    </tr>\n",
       "  </tbody>\n",
       "</table>\n",
       "</div>"
      ],
      "text/plain": [
       "             num_missing  perc_missing     type\n",
       "age                  263          0.20  float64\n",
       "fare                   1          0.00  float64\n",
       "cabinnumber         1014          0.77   object\n",
       "embarked               2          0.00   object"
      ]
     },
     "execution_count": 9,
     "metadata": {},
     "output_type": "execute_result"
    }
   ],
   "source": [
    "pd.DataFrame({\n",
    "    'type': df[have_missing].dtypes,\n",
    "    'perc_missing': df[have_missing].isnull().mean().round(2),\n",
    "    'num_missing': df[have_missing].isnull().sum()\n",
    "})"
   ]
  },
  {
   "cell_type": "markdown",
   "metadata": {},
   "source": [
    "### Create Flags for Missing"
   ]
  },
  {
   "cell_type": "code",
   "execution_count": 10,
   "metadata": {
    "collapsed": true
   },
   "outputs": [],
   "source": [
    "for COL in have_missing:\n",
    "    \"\"\"\n",
    "    Create a missing flag for each column\n",
    "    that has missing data.\n",
    "    \"\"\"\n",
    "    newCOL = COL + '__is_null'\n",
    "    df.loc[:, newCOL] = df.loc[:, COL].isnull().astype(int)"
   ]
  },
  {
   "cell_type": "markdown",
   "metadata": {},
   "source": [
    "### Impute Missings"
   ]
  },
  {
   "cell_type": "code",
   "execution_count": 11,
   "metadata": {},
   "outputs": [
    {
     "data": {
      "image/png": "[encoded data removed]",
      "text/plain": [
       "<Figure size 720x288 with 2 Axes>"
      ]
     },
     "metadata": {},
     "output_type": "display_data"
    }
   ],
   "source": [
    "# impute missings\n",
    "fig, ax = plt.subplots(nrows=1, ncols=2, figsize=(10, 4))\n",
    "\n",
    "df['age'].plot.hist(bins=20, ax=ax[0], title='Age')\n",
    "df['fare'].plot.hist(bins=20, ax=ax[1], title='Fare');"
   ]
  },
  {
   "cell_type": "code",
   "execution_count": 12,
   "metadata": {},
   "outputs": [
    {
     "name": "stdout",
     "output_type": "stream",
     "text": [
      "Age is approximately normally distributed, but Fare is skewed.\n",
      "Using the mean for Age and Median for Fare to impute missing data.\n",
      "Cabin Number has over 70% values missing. Dropping this variable.\n",
      "Embarked has only 2 values missing. Imputing with Mode.\n"
     ]
    }
   ],
   "source": [
    "print(\"Age is approximately normally distributed, but Fare is skewed.\")\n",
    "print(\"Using the mean for Age and Median for Fare to impute missing data.\")\n",
    "print(\"Cabin Number has over 70% values missing. Dropping this variable.\")\n",
    "print(\"Embarked has only 2 values missing. Imputing with Mode.\")\n",
    "\n",
    "age_fillna = df['age'].mean()\n",
    "fare_fillna = df['fare'].median()\n",
    "embarked_fillna = df['embarked'].describe()['top']\n",
    "\n",
    "df['age'].fillna(value=age_fillna, inplace=True)\n",
    "df['fare'].fillna(value=fare_fillna, inplace=True)\n",
    "df['embarked'].fillna(value=embarked_fillna, inplace=True)"
   ]
  },
  {
   "cell_type": "code",
   "execution_count": 13,
   "metadata": {
    "collapsed": true
   },
   "outputs": [],
   "source": [
    "dict_scrub_steps['age_fillna'] = age_fillna\n",
    "dict_scrub_steps['fare_fillna'] = fare_fillna\n",
    "dict_scrub_steps['embarked_fillna'] = embarked_fillna"
   ]
  },
  {
   "cell_type": "markdown",
   "metadata": {},
   "source": [
    "### Create new columns"
   ]
  },
  {
   "cell_type": "code",
   "execution_count": 14,
   "metadata": {},
   "outputs": [
    {
     "name": "stdout",
     "output_type": "stream",
     "text": [
      "Creating a column for Gender\n"
     ]
    }
   ],
   "source": [
    "print(\"Creating a column for Gender\")\n",
    "df.loc[:, 'gender'] = df['name'].map(lambda i: 1 if 'Miss' in i or 'Mrs' in i else 0)"
   ]
  },
  {
   "cell_type": "code",
   "execution_count": 15,
   "metadata": {},
   "outputs": [
    {
     "name": "stdout",
     "output_type": "stream",
     "text": [
      "Creating Dummies for Embarked and Passenger Class. \n",
      "Done. Now dropping these.\n"
     ]
    }
   ],
   "source": [
    "print(\"Creating Dummies for Embarked and Passenger Class. \\nDone. Now dropping these.\")\n",
    "\n",
    "df = df.join(pd.get_dummies(df['embarked'], prefix='embarked'))\n",
    "df = df.join(pd.get_dummies(df['passengerclass'], prefix='pclass'))\n",
    "\n",
    "df.drop(['embarked', 'passengerclass'], axis=1, inplace=True)"
   ]
  },
  {
   "cell_type": "markdown",
   "metadata": {},
   "source": [
    "### Remove Zero Variance Columns"
   ]
  },
  {
   "cell_type": "code",
   "execution_count": 16,
   "metadata": {},
   "outputs": [],
   "source": [
    "nzv_numeric = \\\n",
    "(df\n",
    " .select_dtypes(include=np.number)\n",
    " .std()\n",
    " .where(lambda i: i == 0)\n",
    " .dropna()\n",
    " .index\n",
    " .tolist()\n",
    ")"
   ]
  },
  {
   "cell_type": "code",
   "execution_count": 17,
   "metadata": {},
   "outputs": [],
   "source": [
    "nzv_string = \\\n",
    "(df\n",
    " .select_dtypes(include=object)\n",
    " .apply(lambda c: c.value_counts(normalize=True).max())\n",
    " .where(lambda i: i >= 0.97)\n",
    " .dropna()\n",
    " .index\n",
    " .tolist()\n",
    ")"
   ]
  },
  {
   "cell_type": "code",
   "execution_count": 18,
   "metadata": {},
   "outputs": [],
   "source": [
    "too_many_levels = \\\n",
    "(df\n",
    " .select_dtypes(include=object)\n",
    " .nunique()\n",
    " .where(lambda i: i/df.shape[0] > 32/df.shape[0])\n",
    " .index\n",
    " .tolist()\n",
    ")"
   ]
  },
  {
   "cell_type": "code",
   "execution_count": 19,
   "metadata": {},
   "outputs": [],
   "source": [
    "df.drop(nzv_numeric + nzv_string + too_many_levels, axis=1, inplace=True)"
   ]
  },
  {
   "cell_type": "markdown",
   "metadata": {},
   "source": [
    "### Convert to numeric"
   ]
  },
  {
   "cell_type": "code",
   "execution_count": 20,
   "metadata": {},
   "outputs": [],
   "source": [
    "from src.scrub import compress_numeric, compress_categorical"
   ]
  },
  {
   "cell_type": "markdown",
   "metadata": {},
   "source": [
    "## Backup"
   ]
  },
  {
   "cell_type": "code",
   "execution_count": 21,
   "metadata": {},
   "outputs": [],
   "source": [
    "cols_numeric = df.select_dtypes(include=np.number).columns"
   ]
  },
  {
   "cell_type": "code",
   "execution_count": 22,
   "metadata": {},
   "outputs": [
    {
     "name": "stdout",
     "output_type": "stream",
     "text": [
      "Downcasting survived to float\n",
      "Downcasting survived to int\n",
      "Downcasting age to float\n",
      "Downcasting sibsp to int\n",
      "Downcasting parch to int\n",
      "Downcasting fare to float\n",
      "Downcasting age__is_null to int\n",
      "Downcasting fare__is_null to int\n",
      "Downcasting cabinnumber__is_null to int\n",
      "Downcasting embarked__is_null to int\n",
      "Downcasting gender to int\n",
      "Downcasting embarked_C to int\n",
      "Downcasting embarked_Q to int\n",
      "Downcasting embarked_S to int\n",
      "Downcasting pclass_1 to int\n",
      "Downcasting pclass_2 to int\n",
      "Downcasting pclass_3 to int\n"
     ]
    }
   ],
   "source": [
    "df_compressed = \\\n",
    "pd.concat([\n",
    "    df.drop(cols_numeric, axis=1),\n",
    "    df.select_dtypes(include=np.number).apply(compress_numeric)\n",
    "], axis=1)"
   ]
  },
  {
   "cell_type": "markdown",
   "metadata": {},
   "source": [
    "## Backups"
   ]
  },
  {
   "cell_type": "code",
   "execution_count": 23,
   "metadata": {},
   "outputs": [],
   "source": [
    "df_compressed.to_csv(\"data/04-processed/titanic.csv\")"
   ]
  },
  {
   "cell_type": "code",
   "execution_count": 40,
   "metadata": {},
   "outputs": [],
   "source": [
    "json_write(dict_scrub_steps, \"data/02-interim/scrub_steps.json\")"
   ]
  }
 ],
 "metadata": {
  "kernelspec": {
   "display_name": "Python 3",
   "language": "python",
   "name": "python3"
  },
  "language_info": {
   "codemirror_mode": {
    "name": "ipython",
    "version": 3
   },
   "file_extension": ".py",
   "mimetype": "text/x-python",
   "name": "python",
   "nbconvert_exporter": "python",
   "pygments_lexer": "ipython3",
   "version": "3.6.4"
  }
 },
 "nbformat": 4,
 "nbformat_minor": 2
}
